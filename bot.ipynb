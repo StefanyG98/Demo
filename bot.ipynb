{
 "cells": [
  {
   "cell_type": "code",
   "execution_count": null,
   "id": "c5f1d049-db5a-44ee-adc6-2b6b14217fab",
   "metadata": {},
   "outputs": [],
   "source": [
    "pip install openai"
   ]
  },
  {
   "cell_type": "code",
   "execution_count": 1,
   "id": "69890088-26c5-40db-909c-eda8da8acf48",
   "metadata": {
    "tags": []
   },
   "outputs": [],
   "source": [
    "#importar libreria de OpenAi\n",
    "from openai import OpenAI"
   ]
  },
  {
   "cell_type": "code",
   "execution_count": 3,
   "id": "573df4b3-726b-4dfd-9968-99096e7c0695",
   "metadata": {
    "tags": []
   },
   "outputs": [],
   "source": [
    "#crear una instancia de openai\n",
    "API= \"\"\n",
    "client = OpenAI(api_key=API)"
   ]
  },
  {
   "cell_type": "code",
   "execution_count": 5,
   "id": "473cead6-aafd-44f2-abeb-a49f0ee5d974",
   "metadata": {
    "tags": []
   },
   "outputs": [],
   "source": [
    "#con archivos\n",
    "file= client.files.create(\n",
    "    file = open (\"canchas.pdf\",\"rb\"),\n",
    "    purpose = \"assistants\"\n",
    ")"
   ]
  },
  {
   "cell_type": "code",
   "execution_count": 10,
   "id": "9f549818-f8b5-48fe-a0ac-f2869689409b",
   "metadata": {
    "tags": []
   },
   "outputs": [],
   "source": [
    "#Paso 1: Crear un asistente\n",
    "assistant = client.beta.assistants.create(\n",
    "    name= \"Alpeloteo\",\n",
    "    instructions= \"Eres un experto en Machine Learning, responde a las preguntas del usuario\",\n",
    "    tools= [{\"type\": \"retrieval\"}],\n",
    "    model= \"gpt-4-1106-preview\",\n",
    "    file_ids= [file.id]\n",
    ")"
   ]
  },
  {
   "cell_type": "code",
   "execution_count": 11,
   "id": "16da1865-7f00-4b2e-9c9c-014bc67ef5c6",
   "metadata": {
    "tags": []
   },
   "outputs": [
    {
     "name": "stdout",
     "output_type": "stream",
     "text": [
      "Thread(id='thread_Ur5Vd1bOzvStyCkvdv4FAA9D', created_at=1712615580, metadata={}, object='thread')\n"
     ]
    }
   ],
   "source": [
    "#Paso 2: Crear un hilo\n",
    "thread= client.beta.threads.create()\n",
    "print(thread)"
   ]
  },
  {
   "cell_type": "code",
   "execution_count": 12,
   "id": "43e0633a-4e83-42f3-8d92-787023b748c1",
   "metadata": {
    "tags": []
   },
   "outputs": [],
   "source": [
    "#Paso 3: Añadir mensajes al hilo\n",
    "message: client.beta.threads.messages.create(\n",
    "    thread_id=thread.id,\n",
    "    role= \"user\",\n",
    "    content= \"¿Qué canchas dispone?\"\n",
    ")"
   ]
  },
  {
   "cell_type": "code",
   "execution_count": 13,
   "id": "b19983f4-c69a-4d08-9f27-f88fda4edba6",
   "metadata": {
    "tags": []
   },
   "outputs": [],
   "source": [
    "#Paso 4: Ejecutar el asistente\n",
    "run= client.beta.threads.runs.create(\n",
    "    thread_id= thread.id,\n",
    "    assistant_id= assistant.id,\n",
    "    instructions= \"Ayuda al cliente a resolver su inquietud\"\n",
    ")"
   ]
  },
  {
   "cell_type": "code",
   "execution_count": 15,
   "id": "00d98772-77e4-4719-8377-8d734c9f6b7a",
   "metadata": {
    "tags": []
   },
   "outputs": [
    {
     "name": "stdout",
     "output_type": "stream",
     "text": [
      "user:¿Qué canchas dispone?\n",
      "assistant:La aplicación móvil Alpeloteo ofrece las siguientes canchas deportivas en Quito para reservar:\n",
      "\n",
      "1. El Escondite\n",
      "2. ElPelotero\n",
      "3. Cancha Santo Gol\n",
      "4. Las Canchitas Futbol 6\n",
      "5. Harris Grill\n",
      "6. Quinta El Carmen\n",
      "7. Futgoleiros\n",
      "8. El Monumental\n",
      "9. Fenix Club\n",
      "10. La Cantera Del Valle\n",
      "11. Inti Kanchita\n",
      "12. La Cantera Sur\n",
      "13. Distrito Fútbol\n",
      "14. El Canchon\n",
      "15. Las Canchas Del Oso\n",
      "16. El Bernabéu Cancha Sintética\n",
      "\n",
      "Todas las canchas están disponibles para reserva desde las 8:00 hasta las 20:00, de lunes a viernes, y el precio por hora es de $25 .\n"
     ]
    }
   ],
   "source": [
    "#Paso 5: Despliega la respuesta del asistente\n",
    "run= client.beta.threads.runs.retrieve(\n",
    "    thread_id=thread.id,\n",
    "    run_id=run.id\n",
    ")\n",
    "\n",
    "messages= client.beta.threads.messages.list(\n",
    "thread_id= thread.id\n",
    ")\n",
    "\n",
    "for men in reversed(messages.data):\n",
    "    print(men.role + \":\"+ men.content[0].text.value)"
   ]
  }
 ],
 "metadata": {
  "kernelspec": {
   "display_name": "Python 3 (ipykernel)",
   "language": "python",
   "name": "python3"
  },
  "language_info": {
   "codemirror_mode": {
    "name": "ipython",
    "version": 3
   },
   "file_extension": ".py",
   "mimetype": "text/x-python",
   "name": "python",
   "nbconvert_exporter": "python",
   "pygments_lexer": "ipython3",
   "version": "3.11.5"
  }
 },
 "nbformat": 4,
 "nbformat_minor": 5
}
